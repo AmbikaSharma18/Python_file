{
 "cells": [
  {
   "cell_type": "code",
   "execution_count": 3,
   "metadata": {},
   "outputs": [],
   "source": [
    "class ABC:\n",
    "    var=\"we are learning to make class\"\n",
    "    \n",
    "    def func1(self):\n",
    "        print(self.var)\n",
    "        \n",
    "ob1=ABC()        "
   ]
  },
  {
   "cell_type": "code",
   "execution_count": 4,
   "metadata": {},
   "outputs": [
    {
     "name": "stdout",
     "output_type": "stream",
     "text": [
      "we are learning to make class\n"
     ]
    }
   ],
   "source": [
    "ob1.func1()"
   ]
  },
  {
   "cell_type": "code",
   "execution_count": 5,
   "metadata": {},
   "outputs": [
    {
     "data": {
      "text/plain": [
       "'we are learning to make class'"
      ]
     },
     "execution_count": 5,
     "metadata": {},
     "output_type": "execute_result"
    }
   ],
   "source": [
    "class ABC:\n",
    "    var=\"we are learning to make class\"\n",
    "    \n",
    "    def func1(self):\n",
    "        print(self.var)\n",
    "        \n",
    "ob1=ABC() \n",
    "ob1.var"
   ]
  },
  {
   "cell_type": "code",
   "execution_count": 6,
   "metadata": {},
   "outputs": [
    {
     "name": "stdout",
     "output_type": "stream",
     "text": [
      "we are learning to make class\n"
     ]
    }
   ],
   "source": [
    "class ABC:\n",
    "    var=\"we are learning to make class\"\n",
    "    \n",
    "    def func1(self):\n",
    "        print(self.var)\n",
    "        \n",
    "ob1=ABC() \n",
    "print(ob1.var)"
   ]
  },
  {
   "cell_type": "code",
   "execution_count": 6,
   "metadata": {},
   "outputs": [
    {
     "name": "stdout",
     "output_type": "stream",
     "text": [
      "('ambika', 2000, '2K18CSUN01143')\n",
      "Enter The Age of Student19\n",
      "The age of Student is 19\n",
      "Enter The Marks Of Student200\n",
      "The Update Marks Of Student is 200\n"
     ]
    }
   ],
   "source": [
    "#q7\n",
    "class student():\n",
    "    name=\"\"\n",
    "    marks=0\n",
    "    age=0\n",
    "    Roll_No=\"\"\n",
    "    def display(self):\n",
    "        return (self.name,self.marks,self.Roll_No)\n",
    "    def setage(self):\n",
    "        self.age=int(input(\"Enter The Age of Student\"))\n",
    "        return (self.age)\n",
    "    def setmarks(self):\n",
    "        self.marks=int(input(\"Enter The Marks Of Student\"))\n",
    "        return (self.marks)\n",
    "stu=student()\n",
    "stu.name=\"ambika\"\n",
    "stu.marks=2000\n",
    "stu.Roll_No=\"2K18CSUN01143\"\n",
    "print(stu.display())\n",
    "print(\"The age of Student is\", stu.setage())\n",
    "print(\"The Update Marks Of Student is\", stu.setmarks())"
   ]
  },
  {
   "cell_type": "code",
   "execution_count": 1,
   "metadata": {},
   "outputs": [
    {
     "name": "stdout",
     "output_type": "stream",
     "text": [
      "Enter The First Side10\n",
      "Enter The Second Side 200\n",
      "Enter The Third Side 30\n",
      "The Sides Of Triangle are\n",
      "10\n",
      "200\n",
      "30\n"
     ]
    }
   ],
   "source": [
    "#q1\n",
    "class Triangle:\n",
    "    a=0\n",
    "    b=0\n",
    "    c=0\n",
    "    def create_triangle(self):\n",
    "        self.a=int(input(\"Enter The First Side\"))\n",
    "        self.b=int(input(\"Enter The Second Side \"))\n",
    "        self.c = int(input(\"Enter The Third Side \"))\n",
    "    def printside(self):\n",
    "        print(self.a)\n",
    "        print(self.b)\n",
    "        print(self.c)\n",
    "tr=Triangle()\n",
    "tr.create_triangle()\n",
    "print(\"The Sides Of Triangle are\")\n",
    "tr.printside()"
   ]
  },
  {
   "cell_type": "code",
   "execution_count": 44,
   "metadata": {},
   "outputs": [
    {
     "name": "stdout",
     "output_type": "stream",
     "text": [
      "the perimeter of rectangle is 40\n"
     ]
    }
   ],
   "source": [
    "#q3\n",
    "class Rectangle:\n",
    "    length=0.0\n",
    "    width=0.0\n",
    "    per=0.0\n",
    "    def rect_values(self, l,w):\n",
    "        self.length=1\n",
    "        self.width=w\n",
    "    def perimeter(self):\n",
    "        \n",
    "        self.per=2*self.length*self.width\n",
    "        return(self.per)\n",
    "    \n",
    "r1=Rectangle()\n",
    "r1.rect_values(10,20)\n",
    "k=r1.perimeter()\n",
    "print(\"the perimeter of rectangle is\",k)\n",
    "        "
   ]
  },
  {
   "cell_type": "code",
   "execution_count": 40,
   "metadata": {},
   "outputs": [
    {
     "name": "stdout",
     "output_type": "stream",
     "text": [
      "the area of circle is 7.0649999999999995\n",
      "the perimeter of circle is  9.42\n"
     ]
    }
   ],
   "source": [
    "#creating constructor\n",
    "#q4\n",
    "class Circle:\n",
    "    rad=0.0\n",
    "    def __init__ (self,r):\n",
    "        self.rad=r\n",
    "    def area(self):\n",
    "        return( 3.14*self.rad*self.rad)\n",
    "    def perimeter(self):\n",
    "        return(2*3.14*self.rad)\n",
    "ob1=Circle(1.5)\n",
    "print(\"the area of circle is\" ,ob1.area())\n",
    "print(\"the perimeter of circle is \",ob1.perimeter())"
   ]
  },
  {
   "cell_type": "code",
   "execution_count": 10,
   "metadata": {},
   "outputs": [
    {
     "name": "stdout",
     "output_type": "stream",
     "text": [
      "Enter The Radius12\n",
      "The Area Of circle is 452.15999999999997\n",
      "The Perimeter of rect is 75.36\n"
     ]
    }
   ],
   "source": [
    "#q5\n",
    "class Circle2:\n",
    "    rad=0.0\n",
    "    def __init__(self):\n",
    "        self.rad=float(input(\"Enter The Radius\"))\n",
    "    def areac(self):\n",
    "        return (3.14*self.rad*self.rad)\n",
    "    def circ(self):\n",
    "        return (2*3.14*self.rad)\n",
    "c2=Circle2()\n",
    "print(\"The Area Of circle is\" ,c2.areac())\n",
    "print(\"The Perimeter of rect is\" , c2.circ())"
   ]
  },
  {
   "cell_type": "code",
   "execution_count": 7,
   "metadata": {},
   "outputs": [
    {
     "name": "stdout",
     "output_type": "stream",
     "text": [
      "Enter The String ambika\n",
      "akibma\n"
     ]
    }
   ],
   "source": [
    "#q9\n",
    "class reversestring:\n",
    "    a=\"\"\n",
    "    def rev_fun(self):\n",
    "        self.a=input(\"Enter The String \")\n",
    "        return self.a[::-1]\n",
    "rev=reversestring()\n",
    "print(rev.rev_fun())"
   ]
  },
  {
   "cell_type": "code",
   "execution_count": 8,
   "metadata": {},
   "outputs": [
    {
     "name": "stdout",
     "output_type": "stream",
     "text": [
      "Enter The Hour 2\n",
      "Enter the minute50\n",
      "Enter Another hour1\n",
      "Enter Another Minute20\n",
      "The Total Time is\n",
      "3 Hour and  70 min\n",
      "The Total Minute is 250\n"
     ]
    }
   ],
   "source": [
    "#q8\n",
    "class Time:\n",
    "    hour = 0\n",
    "    hour1 = 0\n",
    "    min = 0\n",
    "    min1 = 0\n",
    "    tothr=0\n",
    "    totmin=0\n",
    "\n",
    "    def addTime(self):\n",
    "        self.hour = int(input(\"Enter The Hour \"))\n",
    "        self.min = int(input(\"Enter the minute\"))\n",
    "        self.hour1 = int(input(\"Enter Another hour\"))\n",
    "        self.min1 = int(input(\"Enter Another Minute\"))\n",
    "\n",
    "    def displaytime(self):\n",
    "        self.tothr=self.hour + self.hour1\n",
    "        self.totmin=self.min + self.min1\n",
    "        print(self.tothr,\"Hour and \",self.totmin,\"min\")\n",
    "    def displaymin(self):\n",
    "        return (60*self.tothr+self.totmin)\n",
    "\n",
    "\n",
    "\n",
    "\n",
    "b1 = Time()\n",
    "b1.addTime()\n",
    "print(\"The Total Time is\")\n",
    "b1.displaytime()\n",
    "print(\"The Total Minute is\",b1.displaymin())"
   ]
  },
  {
   "cell_type": "code",
   "execution_count": 9,
   "metadata": {},
   "outputs": [
    {
     "name": "stdout",
     "output_type": "stream",
     "text": [
      "Enter the Temp in F98\n",
      "The Conversion of F to C is 36.666666666666664\n",
      "Enter The Temp in c36\n",
      "The Conversion of C to F is 96.8\n"
     ]
    }
   ],
   "source": [
    "#q6\n",
    "class Temp:\n",
    "    f=0.0\n",
    "    c=0.0\n",
    "    def convf(self):\n",
    "        self.f=int(input(\"Enter the Temp in F\"))\n",
    "        return ((self.f-32)/1.8)\n",
    "    def convc(self):\n",
    "        self.c=int(input(\"Enter The Temp in c\"))\n",
    "        return ((self.c*1.8)+32)\n",
    "te=Temp()\n",
    "print(\"The Conversion of F to C is\",te.convf())\n",
    "print(\"The Conversion of C to F is\", te.convc())"
   ]
  },
  {
   "cell_type": "code",
   "execution_count": 12,
   "metadata": {},
   "outputs": [
    {
     "name": "stdout",
     "output_type": "stream",
     "text": [
      "enter the stringambika\n",
      "the input string is ambika\n"
     ]
    }
   ],
   "source": [
    "#q4\n",
    "class string:\n",
    "    a=\"\"\n",
    "    def gets(self):\n",
    "        self.a=input(\"enter the string\")\n",
    "        return (self.a)\n",
    "st=string()\n",
    "print(\"the input string is\",st.gets())"
   ]
  },
  {
   "cell_type": "code",
   "execution_count": null,
   "metadata": {},
   "outputs": [],
   "source": []
  }
 ],
 "metadata": {
  "kernelspec": {
   "display_name": "Python 3",
   "language": "python",
   "name": "python3"
  },
  "language_info": {
   "codemirror_mode": {
    "name": "ipython",
    "version": 3
   },
   "file_extension": ".py",
   "mimetype": "text/x-python",
   "name": "python",
   "nbconvert_exporter": "python",
   "pygments_lexer": "ipython3",
   "version": "3.7.6"
  }
 },
 "nbformat": 4,
 "nbformat_minor": 4
}
