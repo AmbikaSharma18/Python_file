{
 "cells": [
  {
   "cell_type": "markdown",
   "metadata": {},
   "source": [
    "# 1. What is the syntax to call a constructor of a base class from child class \n",
    "\n",
    "ans: class parentclassname:\n",
    "        def init(self,var):\n",
    "            self.var=var\n",
    "            print(self.var)    \n",
    "     class childclassname(parentclassname):\n",
    "             pass     \n",
    "     x=10\n",
    "     obj = childclassname(x) \n",
    "     \n",
    "     class A:\n",
    "    def init(self,x):\n",
    "        self.x=x\n",
    "        print(self.x)\n",
    "class B(A):\n",
    "    pass \n",
    "x=10\n",
    "d1 = B(x)"
   ]
  },
  {
   "cell_type": "markdown",
   "metadata": {},
   "source": [
    "# 2. How is a class made as inherited class (syntax of child class)   \n",
    "class childclassname(parentclassname):\n",
    "           pass\n",
    "      obj = childclassname()\n",
    "      obj.methodofparentclass()\n",
    "\n",
    "\n",
    "\n",
    "class A:\n",
    "    def find(self):\n",
    "        print('good morning')\n",
    "class B(A):\n",
    "    pass\n",
    "d1 = B()\n",
    "d1.find()"
   ]
  },
  {
   "cell_type": "markdown",
   "metadata": {},
   "source": [
    "# 3. Print an element of a nested dictionary \n",
    "\n",
    "\n",
    "d1={1:'A',2:'B',3:('C','D'),4:['E','F','G','H'],5:{'A':1,'B':2,'C':3}}\n",
    "d1\n",
    "d1[4][0]"
   ]
  },
  {
   "cell_type": "code",
   "execution_count": 6,
   "metadata": {},
   "outputs": [
    {
     "name": "stdout",
     "output_type": "stream",
     "text": [
      "x= 2\n",
      "y= 4\n",
      "z= 6\n",
      "Q=1.632993161855452\n"
     ]
    }
   ],
   "source": [
    "#1 Write a program that calculates and prints the value according to the formula given below. Take three values from user. Q= square root (( 2*value1*value2)/value3) \n",
    "\n",
    "class Cal:\n",
    "    def __init__(self,x,y,z):\n",
    "        self.x=x\n",
    "        self.y=y\n",
    "        self.z=z\n",
    "    def find(self):\n",
    "        print(f'Q={((2*self.x*self.y)/self.z)**(1/2)}')\n",
    "x=int(input('x= '))\n",
    "y=int(input('y= '))\n",
    "z=int(input('z= '))\n",
    "c=Cal(x,y,z)\n",
    "c.find()"
   ]
  },
  {
   "cell_type": "code",
   "execution_count": 7,
   "metadata": {},
   "outputs": [
    {
     "name": "stdout",
     "output_type": "stream",
     "text": [
      "enter the string: python\n",
      "pto\n"
     ]
    }
   ],
   "source": [
    "#2  Please write a program which accepts a string from console and print the characters that have even indexes. \n",
    "\n",
    "a= input('enter the string: ')\n",
    "b=a[::2]\n",
    "print(b)"
   ]
  },
  {
   "cell_type": "code",
   "execution_count": null,
   "metadata": {},
   "outputs": [],
   "source": []
  }
 ],
 "metadata": {
  "kernelspec": {
   "display_name": "Python 3",
   "language": "python",
   "name": "python3"
  },
  "language_info": {
   "codemirror_mode": {
    "name": "ipython",
    "version": 3
   },
   "file_extension": ".py",
   "mimetype": "text/x-python",
   "name": "python",
   "nbconvert_exporter": "python",
   "pygments_lexer": "ipython3",
   "version": "3.7.6"
  }
 },
 "nbformat": 4,
 "nbformat_minor": 4
}
